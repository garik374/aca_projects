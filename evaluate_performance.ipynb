{
 "cells": [
  {
   "cell_type": "code",
   "execution_count": 1,
   "metadata": {
    "collapsed": true
   },
   "outputs": [],
   "source": [
    "import numpy as np\n",
    "import matplotlib.pyplot as plt"
   ]
  },
  {
   "cell_type": "code",
   "execution_count": 3,
   "metadata": {
    "collapsed": true
   },
   "outputs": [],
   "source": [
    "from decision_tree import DecisionTree\n",
    "from random_forest import RandomForest\n",
    "from runner import accuracy_score"
   ]
  },
  {
   "cell_type": "code",
   "execution_count": 5,
   "metadata": {
    "collapsed": false
   },
   "outputs": [],
   "source": [
    "def evaluate_performance():\n",
    "    '''\n",
    "    Evaluate the performance of decision trees and logistic regression,\n",
    "    average over 1,000 trials of 10-fold cross validation\n",
    "\n",
    "    Return:\n",
    "      a matrix giving the performance that will contain the following entries:\n",
    "      stats[0,0] = mean accuracy of decision tree\n",
    "      stats[0,1] = std deviation of decision tree accuracy\n",
    "      stats[1,0] = mean accuracy of logistic regression\n",
    "      stats[1,1] = std deviation of logistic regression accuracy\n",
    "\n",
    "    ** Note that your implementation must follow this API**\n",
    "    '''\n",
    "\n",
    "    # Load Data\n",
    "    filename = 'SPECTF.dat'\n",
    "    data = np.loadtxt(filename, delimiter=',')\n",
    "    #print(data[:10,:])\n",
    "    X = data[:, 1:]\n",
    "    y = np.array([data[:, 0]]).T\n",
    "    n, d = X.shape\n",
    "    all_accuracies=[]\n",
    "    all_accuracies1=[]\n",
    "    for trial in range(5):\n",
    "        \n",
    "        idx = np.arange(n)\n",
    "        np.random.seed(13)\n",
    "        np.random.shuffle(idx)\n",
    "        X = X[idx]\n",
    "        y = y[idx]\n",
    "\n",
    "        \n",
    "        folds=10\n",
    "        N=200\n",
    "        Xtrain = X[0:N, :]\n",
    "        Xtest = X[N:, :]\n",
    "        ytrain = y[0:N, :]\n",
    "        ytest = y[N:, :]\n",
    "        \n",
    "        classifier = DecisionTree(100)\n",
    "        classifier.fit(Xtrain, ytrain)\n",
    "\n",
    "        classifier1 = RandomForest(100)\n",
    "        classifier1.fit(Xtrain, ytrain)\n",
    "        \n",
    "        y_pred = classifier.predict(Xtest)\n",
    "        y_pred1=classifier1.predict1(Xtest)\n",
    "\n",
    "        accuracy = accuracy_score(ytest, y_pred)\n",
    "        all_accuracies.append(accuracy)\n",
    "\n",
    "        accuracy1 = accuracy_score(ytest, y_pred1)\n",
    "        all_accuracies1.append(accuracy1)\n",
    "\n",
    "\n",
    "    meanDecisionTreeAccuracy = np.mean(all_accuracies)\n",
    "\n",
    "    stddevDecisionTreeAccuracy = np.std(all_accuracies)\n",
    "    meanLogisticRegressionAccuracy = 0\n",
    "    stddevLogisticRegressionAccuracy = 0\n",
    "    meanRandomForestAccuracy = np.mean(all_accuracies1)\n",
    "    stddevRandomForestAccuracy = np.std(all_accuracies1)\n",
    "\n",
    "    stats = np.zeros((3, 3))\n",
    "    stats[0, 0] = meanDecisionTreeAccuracy\n",
    "    stats[0, 1] = stddevDecisionTreeAccuracy\n",
    "    stats[1, 0] = meanRandomForestAccuracy\n",
    "    stats[1, 1] = stddevRandomForestAccuracy\n",
    "    stats[2, 0] = meanLogisticRegressionAccuracy\n",
    "    stats[2, 1] = stddevLogisticRegressionAccuracy\n",
    "    return stats\n"
   ]
  },
  {
   "cell_type": "code",
   "execution_count": 6,
   "metadata": {
    "collapsed": false
   },
   "outputs": [
    {
     "name": "stdout",
     "output_type": "stream",
     "text": [
      "Decision Tree Accuracy =  0.767164179104  ( 0.0417910447761 )\n",
      "Random Forest Tree Accuracy =  0.814925373134  ( 0.0276824432701 )\n",
      "Logistic Reg. Accuracy =  0.0  ( 0.0 )\n"
     ]
    }
   ],
   "source": [
    "if __name__ == \"__main__\":\n",
    "    stats = evaluate_performance()\n",
    "    print (\"Decision Tree Accuracy = \", stats[0, 0], \" (\", stats[0, 1], \")\")\n",
    "    print (\"Random Forest Tree Accuracy = \", stats[1, 0], \" (\", stats[1, 1], \")\")\n",
    "    print (\"Logistic Reg. Accuracy = \", stats[2, 0], \" (\", stats[2, 1], \")\")"
   ]
  },
  {
   "cell_type": "code",
   "execution_count": null,
   "metadata": {
    "collapsed": true
   },
   "outputs": [],
   "source": []
  }
 ],
 "metadata": {
  "kernelspec": {
   "display_name": "Python 3",
   "language": "python",
   "name": "python3"
  },
  "language_info": {
   "codemirror_mode": {
    "name": "ipython",
    "version": 3
   },
   "file_extension": ".py",
   "mimetype": "text/x-python",
   "name": "python",
   "nbconvert_exporter": "python",
   "pygments_lexer": "ipython3",
   "version": "3.6.0"
  }
 },
 "nbformat": 4,
 "nbformat_minor": 2
}
