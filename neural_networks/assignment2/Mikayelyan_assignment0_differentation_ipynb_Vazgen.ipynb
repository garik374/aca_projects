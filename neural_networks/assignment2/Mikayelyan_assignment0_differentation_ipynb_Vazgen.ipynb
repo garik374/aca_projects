{
 "cells": [
  {
   "cell_type": "markdown",
   "metadata": {},
   "source": [
    "# Differentiation "
   ]
  },
  {
   "cell_type": "markdown",
   "metadata": {},
   "source": [
    "Since it easy to google every task please please please try to undestand what's going on. The \"just answer\" thing will be not counted, make sure to present derivation of your solution. It is absolutely OK if you found an answer on web then just exercise in $\\LaTeX$ copying it into here."
   ]
  },
  {
   "cell_type": "markdown",
   "metadata": {},
   "source": [
    "Useful links: \n",
    "[1](http://www.machinelearning.ru/wiki/images/2/2a/Matrix-Gauss.pdf)\n",
    "[2](http://www.atmos.washington.edu/~dennis/MatrixCalculus.pdf)\n",
    "[3](http://cal.cs.illinois.edu/~johannes/research/matrix%20calculus.pdf)"
   ]
  },
  {
   "cell_type": "markdown",
   "metadata": {},
   "source": [
    "## ex. 1"
   ]
  },
  {
   "cell_type": "markdown",
   "metadata": {},
   "source": [
    "$$  \n",
    "y = x^Tx,  \\quad x \\in \\mathbb{R}^N \n",
    "$$"
   ]
  },
  {
   "cell_type": "markdown",
   "metadata": {},
   "source": [
    "$$\n",
    "\\frac{\\partial y}{\\partial x}=\\frac{\\partial\\left(x_1^2+x_2^2+\\ldots+x_N^2\\right)}{\\partial x} =\\left(2x_1,2x_2,\\ldots,2x_N\\right)^T=2x\n",
    "$$"
   ]
  },
  {
   "cell_type": "markdown",
   "metadata": {},
   "source": [
    "## ex. 2"
   ]
  },
  {
   "cell_type": "markdown",
   "metadata": {},
   "source": [
    "$$ y = tr(AB) \\quad A,B \\in \\mathbb{R}^{N \\times N} $$ "
   ]
  },
  {
   "cell_type": "markdown",
   "metadata": {},
   "source": [
    "$$\n",
    "\\frac{\\partial y}{\\partial a_{ij}} = \\frac{\\partial}{\\partial a_{ij}}\\left( \\sum_{n}\\sum_{m}a_{nm}b_{mn}\\right) = \\frac{\\partial(a_{i1}b_{1i} + a_{i2}b_{2i}+ ... + a_{iN}b_{Ni})}{\\partial a_{ij}}=b_{ji}\n",
    "$$\n",
    "\n",
    "$$\n",
    "\\frac{dy}{dA} = \\begin{bmatrix}\n",
    "    \\frac {\\partial y}{\\partial a_{11}}    & \\frac {\\partial y}{\\partial a_{12}}  & \\dots & \\frac {\\partial y}{\\partial a_{1N}} \\\\\n",
    "    \\frac {\\partial y}{\\partial a_{21}}       & \\frac {\\partial y}{\\partial a_{22}}  & \\dots & \\frac {\\partial y}{\\partial a_{2N}} \\\\\n",
    "     \\\\\\dots & \\dots & \\dots & \\dots\\\\\n",
    "    \\frac {\\partial y}{\\partial a_{N1}}       & \\frac {\\partial y}{\\partial a_{N2}}  & \\dots & \\frac {\\partial y}{\\partial a_{NN}}\n",
    "\\end{bmatrix} = \\begin{bmatrix}\n",
    "    b_{11}    & b_{21}  & \\dots & b_{N1} \\\\\n",
    "    b_{12}       & b_{22}  & \\dots & b_{N2} \\\\\n",
    "     \\\\\\dots & \\dots & \\dots & \\dots \\\\\n",
    "    b_{1N}       & b_{2N}  & \\dots & b_{NN}\n",
    "\\end{bmatrix} = B^T\n",
    "$$"
   ]
  },
  {
   "cell_type": "markdown",
   "metadata": {},
   "source": [
    "## ex. 3"
   ]
  },
  {
   "cell_type": "markdown",
   "metadata": {},
   "source": [
    "$$  \n",
    "y = x^TAc , \\quad A\\in \\mathbb{R}^{N \\times N}, x\\in \\mathbb{R}^{N}, c\\in \\mathbb{R}^{N} \n",
    "$$"
   ]
  },
  {
   "cell_type": "markdown",
   "metadata": {},
   "source": [
    "Let's first calculate for each term:\n",
    "\n",
    "\n",
    "$$\n",
    "\\frac{dy}{da_{ij}}=\n",
    "\\frac{d}{da_{ij}}\\left(x^T \\begin{bmatrix}\n",
    "    b_{11} \\\\\n",
    "    b_{12} \\\\\n",
    "     \\dots \\\\\n",
    "    b_{NN}\n",
    "\\end{bmatrix} c\\right) = \\frac{dx_ia_{ij}c_j}{da_{ij}} = x_ic_j,\n",
    "$$\n",
    "\n",
    "it follows that\n",
    "\n",
    "$$\n",
    "\\frac{dy}{dA} = \\begin{bmatrix}\n",
    "    x_1c_1    & x_2c_1  & \\dots & x_Nc_1 \\\\\n",
    "    x_1c_2       & x_2c_2  & \\dots & x_Nc_2 \\\\\n",
    "     \\\\\\dots & \\dots & \\dots & \\dots \\\\\n",
    "    x_1c_N       & x_2c_N  & \\dots & x_Nc_N\n",
    "\\end{bmatrix} = xc^T\n",
    "$$ "
   ]
  },
  {
   "cell_type": "markdown",
   "metadata": {},
   "source": [
    "## ex. 4"
   ]
  },
  {
   "cell_type": "markdown",
   "metadata": {},
   "source": [
    "Classic matrix factorization example. Given matrix $X$ you need to find $A$, $S$ to approximate $X$. This can be done by simple gradient descent iteratively alternating $A$ and $S$ updates.\n",
    "$$\n",
    "J = || X - AS ||_2^2  , \\quad A\\in \\mathbb{R}^{N \\times R} , \\quad S\\in \\mathbb{R}^{R \\times M}\n",
    "$$"
   ]
  },
  {
   "cell_type": "markdown",
   "metadata": {},
   "source": []
  },
  {
   "cell_type": "markdown",
   "metadata": {},
   "source": [
    "### First approach\n",
    "Using ex.2 and the fact:\n",
    "$$\n",
    "|| X ||_2^2 = tr(XX^T) \n",
    "$$ \n",
    "it is easy to derive gradients (you can find it in one of the refs). "
   ]
  },
  {
   "cell_type": "markdown",
   "metadata": {
    "collapsed": true
   },
   "source": [
    "### Second approach\n",
    "You can use *slightly different techniques* if they suits you. Take a look at this derivation:\n",
    "![](../imgs/grad.png)\n",
    "\n",
    "(excerpt from [Handbook of blind source separation, Jutten, page 517](https://books.google.ru/books?id=PTbj03bYH6kC&printsec=frontcover&dq=Handbook+of+Blind+Source+Separation&hl=en&sa=X&ved=0ahUKEwi-q_apiJDLAhULvXIKHVXJDWcQ6AEIHDAA#v=onepage&q=Handbook%20of%20Blind%20Source%20Separation&f=false), open for better picture)."
   ]
  },
  {
   "cell_type": "markdown",
   "metadata": {},
   "source": [
    "### Third approach\n",
    "And finally we can use chain rule! **YOUR TURN** to do it.\n",
    "let $ F = AS $ \n",
    "\n",
    "**Find** $\\displaystyle\\frac{dJ}{dF}$"
   ]
  },
  {
   "cell_type": "markdown",
   "metadata": {},
   "source": [
    "$$J = tr\\left(\\left(X-F\\right)^T\\left(X-F\\right)\\right) = tr\\left(X^TX\\right) - tr\\left(X^TF\\right) - tr\\left(F^TX\\right)+tr\\left(F^TF\\right) = tr\\left(X^TX\\right)-2tr\\left(FX^T\\right)+tr\\left(F^TF\\right) = \\\\\n",
    " = \\sum_{i=1}^{N}\\sum_{j=1}^{M}x_{ij}^2 - 2tr(FX^T) + \\sum_{i=1}^{N}\\sum_{j=1}^{M}f_{ij}^2$$ \n",
    "Therefore from exercise 2 follows that\n",
    "$$\n",
    "\\frac{dJ}{dF} = 0-2X+2F=2\\left(F-X\\right).\n",
    "$$ "
   ]
  },
  {
   "cell_type": "markdown",
   "metadata": {},
   "source": [
    "Now let's find $\\displaystyle \\frac{dF}{dS}$. \n",
    "$$\n",
    "\\frac{dF}{dS} = \\begin{bmatrix}\n",
    "    \\frac{\\partial F}{\\partial s_{11}}   &  \\frac{\\partial F}{\\partial s_{21}}  & \\dots &  \\frac{\\partial F}{\\partial s_{R1}}\\\\\n",
    "     \\frac{\\partial F}{\\partial s_{12}}      &  \\frac{\\partial F}{\\partial s_{22}}  & \\dots &  \\frac{\\partial F}{\\partial s_{R2}} \\\\\n",
    "     \\dots & \\dots & \\dots & \\dots \\\\\n",
    "     \\frac{\\partial F}{\\partial s_{1M}}       &  \\frac{\\partial F}{\\partial s_{2M}}  & \\dots &  \\frac{\\partial F}{\\partial s_{RM}}\n",
    "\\end{bmatrix}\n",
    "$$ \n",
    "\n",
    "\n",
    "$$\n",
    "\\frac{dF}{ds_{ij}} = \\begin{bmatrix}\n",
    "    \\frac{\\partial f_{11}}{\\partial s_{ij}}   &  \\frac{\\partial f_{12}}{\\partial s_{ij}}  & \\dots &  \\frac{\\partial f_{1M}}{\\partial s_{ij}}\\\\\n",
    "     \\frac{\\partial f_{21}}{\\partial s_{ij}}   &  \\frac{\\partial f_{22}}{\\partial s_{ij}}  & \\dots &  \\frac{\\partial f_{2M}}{\\partial s_{ij}} \\\\\n",
    "     \\dots & \\dots & \\dots & \\dots \\\\\n",
    "     \\frac{\\partial f_{N1}}{\\partial s_{ij}}   &  \\frac{\\partial f_{N2}}{\\partial s_{ij}}  & \\dots &  \\frac{\\partial f_{NM}}{\\partial s_{ij}}\n",
    "\\end{bmatrix}\n",
    "$$ \n",
    "\n",
    "Here \n",
    "$$f_{mn} = \\sum_{k=1}^{R}a_{mk}s_{kn}$$\n",
    "$$\\frac {\\partial f_{mn}}{\\partial s_{ij}} = a_{mi}, \\hspace{0.2cm} if \\hspace{0.2cm} n=j$$\n",
    "and\n",
    "$$\\frac {\\partial f_{mn}}{\\partial s_{ij}} = 0, \\hspace{0.2cm} otherwise.$$\n",
    "Then,\n",
    "\n",
    "$$\n",
    "\\frac{dF}{dS} = \\begin{bmatrix}\n",
    "    \\begin{bmatrix}\n",
    "    0  &  \\dots & a_{1i}  & \\dots &  0\\\\\n",
    "     0  &  \\dots & a_{2i}  & \\dots &  0\\\\\n",
    "      &  & \\dots & & \\\\\n",
    "     0  &  \\dots & a_{Ni}  & \\dots &  0\\\\\n",
    "\\end{bmatrix}_{N\\times M}\n",
    "\\end{bmatrix}_{R \\times M}\n",
    "$$ \n",
    "\n",
    "\n",
    "There $a_{1i},a_{2,i},\\ldots, a_{N,i}$ are located in the $j$th column of the following matrix\n",
    "$$\n",
    "\\begin{bmatrix}\n",
    "    0  &  \\dots & a_{1i}  & \\dots &  0\\\\\n",
    "     0  &  \\dots & a_{2i}  & \\dots &  0\\\\\n",
    "      &  & \\dots & & \\\\\n",
    "     0  &  \\dots & a_{Ni}  & \\dots &  0\\\\\n",
    "\\end{bmatrix}_{N\\times M}\n",
    "$$\n",
    "The shape of the tensor $\\displaystyle \\frac{dF}{dS}$ is $ NM \\times RM$."
   ]
  },
  {
   "cell_type": "markdown",
   "metadata": {
    "collapsed": true
   },
   "source": [
    "Now it is easy do get desired gradients:\n",
    "$$\n",
    "\\frac{dJ}{dS} = ?\n",
    "$$\n",
    "\n",
    "Since\n",
    "$$\n",
    "\\frac {\\partial f_{mn}}{\\partial s_{ij}}=\\begin{cases}\n",
    "a_{mi},\\ \\ if\\ \\ n=j\\\\\n",
    "0,\\ \\ otherwise\n",
    "\\end{cases}\n",
    "$$"
   ]
  },
  {
   "cell_type": "markdown",
   "metadata": {},
   "source": [
    "thus \n",
    "$$\n",
    "\\frac {\\partial S}{\\partial s_{ij}}=\\sum_{m}\\sum_{n}\\frac {\\partial J}{\\partial f_{mn}}\\frac {\\partial f_{mn}}{\\partial s_{ij}}=\\sum_{m}\\frac {\\partial J}{\\partial f_{mj}}\\frac {\\partial f_{mj}}{\\partial s_{ij}}=\\sum_{m}\\frac {\\partial J}{\\partial f_{mj}}a_{mi}.\n",
    "$$"
   ]
  },
  {
   "cell_type": "markdown",
   "metadata": {},
   "source": [
    "We have $\\displaystyle\\frac{dJ}{dF}=2\\left(F-X\\right)$. Therefore $\\displaystyle\\frac {\\partial J}{\\partial f_{mj}}=\\sum_{m}2\\left(f_{mj}-x_{mj}\\right)a_{mi}$. It follows that\n",
    "$$\n",
    "\\frac{dJ}{dS}=2A^T\\left(F-X\\right)=2A^T\\left(AS-X\\right).\n",
    "$$"
   ]
  },
  {
   "cell_type": "code",
   "execution_count": null,
   "metadata": {
    "collapsed": true
   },
   "outputs": [],
   "source": []
  }
 ],
 "metadata": {
  "kernelspec": {
   "display_name": "Python 3",
   "language": "python",
   "name": "python3"
  },
  "language_info": {
   "codemirror_mode": {
    "name": "ipython",
    "version": 3
   },
   "file_extension": ".py",
   "mimetype": "text/x-python",
   "name": "python",
   "nbconvert_exporter": "python",
   "pygments_lexer": "ipython3",
   "version": "3.6.0"
  }
 },
 "nbformat": 4,
 "nbformat_minor": 1
}
