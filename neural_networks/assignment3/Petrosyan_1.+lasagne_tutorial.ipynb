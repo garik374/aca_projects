{
 "cells": [
  {
   "cell_type": "markdown",
   "metadata": {},
   "source": [
    "# lasagne\n",
    "* lasagne is a library for neural network building and training\n",
    "* it's a low-level library with almost seamless integration with theano\n",
    "\n",
    "For a demo we shall solve the same digit recognition problem, but at a different scale\n",
    "* images are now 28x28\n",
    "* 10 different digits\n",
    "* 50k samples"
   ]
  },
  {
   "cell_type": "code",
   "execution_count": 11,
   "metadata": {
    "collapsed": true
   },
   "outputs": [],
   "source": [
    "import numpy as np\n",
    "import theano\n",
    "import theano.tensor as T\n",
    "import matplotlib.pyplot as plt\n",
    "%matplotlib inline"
   ]
  },
  {
   "cell_type": "code",
   "execution_count": 12,
   "metadata": {},
   "outputs": [
    {
     "name": "stdout",
     "output_type": "stream",
     "text": [
      "(50000, 1, 28, 28) (50000,)\n"
     ]
    }
   ],
   "source": [
    "from mnist import load_dataset\n",
    "X_train,y_train,X_val,y_val,X_test,y_test = load_dataset()\n",
    "\n",
    "print(X_train.shape,y_train.shape)"
   ]
  },
  {
   "cell_type": "code",
   "execution_count": 13,
   "metadata": {
    "collapsed": true
   },
   "outputs": [],
   "source": [
    "input_X = T.tensor4(\"X\")\n",
    "\n",
    "#input dimention (None means \"Arbitrary\" and only works at  the first axes [samples])\n",
    "input_shape = (None,1,28,28)\n",
    "\n",
    "target_y = T.vector(\"target Y integer\",dtype='int32')"
   ]
  },
  {
   "cell_type": "markdown",
   "metadata": {},
   "source": [
    "Defining network architecture"
   ]
  },
  {
   "cell_type": "code",
   "execution_count": 14,
   "metadata": {
    "collapsed": true
   },
   "outputs": [],
   "source": [
    "import lasagne\n",
    "from lasagne.layers import *\n",
    "\n",
    "#Input layer (auxilary)\n",
    "l1 = InputLayer(shape = input_shape, input_var=input_X)\n",
    "\n",
    "l2 = DropoutLayer(l1, p = 0.2)\n",
    "\n",
    "l3 = Conv2DLayer(l2, num_filters=20, stride = 1, filter_size=(5,5) , nonlinearity=lasagne.nonlinearities.leaky_rectify)\n",
    "\n",
    "lmaxpull = MaxPool2DLayer(l3, pool_size=(2,2))\n",
    "\n",
    "l4 = DenseLayer(lmaxpull,num_units=350 ,nonlinearity = lasagne.nonlinearities.leaky_rectify)\n",
    "\n",
    "l_out = DenseLayer(dropout(l4, 0.5),num_units = 10,nonlinearity=lasagne.nonlinearities.softmax)"
   ]
  },
  {
   "cell_type": "code",
   "execution_count": 15,
   "metadata": {
    "collapsed": true
   },
   "outputs": [],
   "source": [
    "#network prediction (theano-transformation)\n",
    "y_predicted = lasagne.layers.get_output(l_out, deterministic = False)\n",
    "y_predicted_dropout_off = lasagne.layers.get_output(l_out, deterministic = True)"
   ]
  },
  {
   "cell_type": "code",
   "execution_count": 16,
   "metadata": {},
   "outputs": [
    {
     "name": "stdout",
     "output_type": "stream",
     "text": [
      "[W, b, W, b, W, b]\n"
     ]
    }
   ],
   "source": [
    "#all network weights (shared variables)\n",
    "all_weights = lasagne.layers.get_all_params(l_out)\n",
    "print (all_weights)"
   ]
  },
  {
   "cell_type": "markdown",
   "metadata": {},
   "source": [
    "### Than you could simply\n",
    "* define loss function manually\n",
    "* compute error gradient over all weights\n",
    "* define updates\n",
    "* But that's a whole lot of work and life's short\n",
    "  * not to mention life's too short to wait for SGD to converge\n",
    "\n",
    "Instead, we shall use Lasagne builtins"
   ]
  },
  {
   "cell_type": "code",
   "execution_count": 17,
   "metadata": {
    "collapsed": true
   },
   "outputs": [],
   "source": [
    "#Mean categorical crossentropy as a loss function - similar to logistic loss but for multiclass targets\n",
    "loss = lasagne.objectives.categorical_crossentropy(y_predicted,target_y).mean()\n",
    "\n",
    "#prediction accuracy\n",
    "accuracy = lasagne.objectives.categorical_accuracy(y_predicted,target_y).mean()\n",
    "accuracy_test = lasagne.objectives.categorical_accuracy(y_predicted_dropout_off,target_y).mean()\n",
    "#This function computes gradient AND composes weight updates just like you did earlier\n",
    "updates_sgd = lasagne.updates.sgd(loss, all_weights,learning_rate=0.03)"
   ]
  },
  {
   "cell_type": "code",
   "execution_count": 18,
   "metadata": {
    "collapsed": true
   },
   "outputs": [],
   "source": [
    "#function that computes loss and updates weights\n",
    "train_fun = theano.function([input_X,target_y],[loss,accuracy],updates= updates_sgd)\n",
    "\n",
    "#function that just computes accuracy\n",
    "accuracy_fun = theano.function([input_X,target_y],accuracy)\n",
    "accuracy_fun_test = theano.function([input_X,target_y],accuracy_test)"
   ]
  },
  {
   "cell_type": "markdown",
   "metadata": {},
   "source": [
    "### That's all, now let's train it!\n",
    "* We got a lot of data, so it's recommended that you use SGD\n",
    "* So let's implement a function that splits the training sample into minibatches"
   ]
  },
  {
   "cell_type": "code",
   "execution_count": 19,
   "metadata": {
    "collapsed": true
   },
   "outputs": [],
   "source": [
    "# An auxilary function that returns mini-batches for neural network training\n",
    "\n",
    "# Parameters\n",
    "# inputs - a tensor of images with shape (many, 1, 28, 28), e.g. X_train\n",
    "# outputs - a vector of answers for corresponding images e.g. Y_train\n",
    "#batch_size - a single number - the intended size of each batches\n",
    "\n",
    "def iterate_minibatches(inputs, targets, batchsize):\n",
    "    assert len(inputs) == len(targets)\n",
    "    indices = np.arange(len(inputs))\n",
    "    np.random.shuffle(indices)\n",
    "    for start_idx in range(0, len(inputs) - batchsize + 1, batchsize):\n",
    "        excerpt = indices[start_idx:start_idx + batchsize]\n",
    "        yield inputs[excerpt], targets[excerpt]"
   ]
  },
  {
   "cell_type": "markdown",
   "metadata": {},
   "source": [
    "# Training loop"
   ]
  },
  {
   "cell_type": "code",
   "execution_count": 20,
   "metadata": {},
   "outputs": [
    {
     "name": "stdout",
     "output_type": "stream",
     "text": [
      "Epoch 5 of 100 took 157.031s\n",
      "  training loss (in-iteration):\t\t0.137951\n",
      "  train accuracy:\t\t95.76 %\n",
      "  validation accuracy:\t\t96.31 %\n",
      "Epoch 10 of 100 took 157.745s\n",
      "  training loss (in-iteration):\t\t0.087707\n",
      "  train accuracy:\t\t97.32 %\n",
      "  validation accuracy:\t\t97.06 %\n",
      "Epoch 15 of 100 took 200.301s\n",
      "  training loss (in-iteration):\t\t0.064212\n",
      "  train accuracy:\t\t98.08 %\n",
      "  validation accuracy:\t\t97.67 %\n",
      "Epoch 20 of 100 took 249.241s\n",
      "  training loss (in-iteration):\t\t0.052715\n",
      "  train accuracy:\t\t98.30 %\n",
      "  validation accuracy:\t\t97.93 %\n",
      "Epoch 25 of 100 took 156.143s\n",
      "  training loss (in-iteration):\t\t0.044547\n",
      "  train accuracy:\t\t98.55 %\n",
      "  validation accuracy:\t\t97.94 %\n",
      "Epoch 30 of 100 took 258.485s\n",
      "  training loss (in-iteration):\t\t0.037011\n",
      "  train accuracy:\t\t98.83 %\n",
      "  validation accuracy:\t\t98.09 %\n",
      "Epoch 35 of 100 took 291.475s\n",
      "  training loss (in-iteration):\t\t0.032007\n",
      "  train accuracy:\t\t98.95 %\n",
      "  validation accuracy:\t\t98.20 %\n",
      "Epoch 40 of 100 took 263.007s\n",
      "  training loss (in-iteration):\t\t0.028709\n",
      "  train accuracy:\t\t99.05 %\n",
      "  validation accuracy:\t\t98.30 %\n",
      "Epoch 45 of 100 took 300.080s\n",
      "  training loss (in-iteration):\t\t0.025747\n",
      "  train accuracy:\t\t99.18 %\n",
      "  validation accuracy:\t\t98.30 %\n",
      "Epoch 50 of 100 took 158.522s\n",
      "  training loss (in-iteration):\t\t0.022657\n",
      "  train accuracy:\t\t99.26 %\n",
      "  validation accuracy:\t\t98.28 %\n",
      "Epoch 55 of 100 took 386.692s\n",
      "  training loss (in-iteration):\t\t0.022103\n",
      "  train accuracy:\t\t99.24 %\n",
      "  validation accuracy:\t\t98.37 %\n",
      "Epoch 60 of 100 took 160.795s\n",
      "  training loss (in-iteration):\t\t0.018832\n",
      "  train accuracy:\t\t99.36 %\n",
      "  validation accuracy:\t\t98.43 %\n",
      "Epoch 65 of 100 took 158.627s\n",
      "  training loss (in-iteration):\t\t0.017982\n",
      "  train accuracy:\t\t99.40 %\n",
      "  validation accuracy:\t\t98.44 %\n",
      "Epoch 70 of 100 took 238.791s\n",
      "  training loss (in-iteration):\t\t0.017554\n",
      "  train accuracy:\t\t99.43 %\n",
      "  validation accuracy:\t\t98.38 %\n",
      "Epoch 75 of 100 took 190.900s\n",
      "  training loss (in-iteration):\t\t0.016966\n",
      "  train accuracy:\t\t99.41 %\n",
      "  validation accuracy:\t\t98.57 %\n",
      "Epoch 80 of 100 took 343.333s\n",
      "  training loss (in-iteration):\t\t0.014218\n",
      "  train accuracy:\t\t99.54 %\n",
      "  validation accuracy:\t\t98.51 %\n",
      "Epoch 85 of 100 took 181.378s\n",
      "  training loss (in-iteration):\t\t0.015261\n",
      "  train accuracy:\t\t99.50 %\n",
      "  validation accuracy:\t\t98.61 %\n",
      "Epoch 90 of 100 took 174.254s\n",
      "  training loss (in-iteration):\t\t0.013464\n",
      "  train accuracy:\t\t99.53 %\n",
      "  validation accuracy:\t\t98.44 %\n",
      "Epoch 95 of 100 took 190.856s\n",
      "  training loss (in-iteration):\t\t0.012053\n",
      "  train accuracy:\t\t99.61 %\n",
      "  validation accuracy:\t\t98.48 %\n",
      "Epoch 100 of 100 took 184.632s\n",
      "  training loss (in-iteration):\t\t0.011106\n",
      "  train accuracy:\t\t99.63 %\n",
      "  validation accuracy:\t\t98.59 %\n"
     ]
    }
   ],
   "source": [
    "import time\n",
    "\n",
    "num_epochs = 100 #amount of passes through the data\n",
    "\n",
    "batch_size = 50 #number of samples processed at each function call\n",
    "\n",
    "for epoch in range(num_epochs):\n",
    "    # In each epoch, we do a full pass over the training data:\n",
    "    train_err = 0\n",
    "    train_acc = 0\n",
    "    train_batches = 0\n",
    "    start_time = time.time()\n",
    "    i = 0\n",
    "    for batch in iterate_minibatches(X_train, y_train,batch_size):\n",
    "        inputs, targets = batch\n",
    "        train_err_batch, train_acc_batch = train_fun(inputs, targets)\n",
    "        train_err += train_err_batch\n",
    "        train_acc += train_acc_batch\n",
    "        train_batches += 1\n",
    "\n",
    "    # And a full pass over the validation data:\n",
    "    if (epoch+1)%5 == 0:\n",
    "        val_acc = 0\n",
    "        val_batches = 0\n",
    "        for batch in iterate_minibatches(X_val, y_val, batch_size):\n",
    "            inputs, targets = batch\n",
    "            val_acc += accuracy_fun(inputs, targets)\n",
    "            val_batches += 1\n",
    "\n",
    "    \n",
    "        # Then we print the results for this epoch:\n",
    "        print(\"Epoch {} of {} took {:.3f}s\".format(\n",
    "            epoch + 1, num_epochs, time.time() - start_time))\n",
    "\n",
    "        print(\"  training loss (in-iteration):\\t\\t{:.6f}\".format(train_err / train_batches))\n",
    "        print(\"  train accuracy:\\t\\t{:.2f} %\".format(\n",
    "            train_acc / train_batches * 100))\n",
    "        print(\"  validation accuracy:\\t\\t{:.2f} %\".format(\n",
    "            val_acc / val_batches * 100))"
   ]
  },
  {
   "cell_type": "code",
   "execution_count": 21,
   "metadata": {},
   "outputs": [
    {
     "name": "stdout",
     "output_type": "stream",
     "text": [
      "Final results:\n",
      "  test accuracy:\t\t99.13 %\n",
      "Achievement unlocked: 80lvl Warlock!\n"
     ]
    }
   ],
   "source": [
    "test_acc = 0\n",
    "test_batches = 0\n",
    "for batch in iterate_minibatches(X_test, y_test, 500):\n",
    "    inputs, targets = batch\n",
    "    acc = accuracy_fun_test(inputs, targets)\n",
    "    test_acc += acc\n",
    "    test_batches += 1\n",
    "print(\"Final results:\")\n",
    "print(\"  test accuracy:\\t\\t{:.2f} %\".format(\n",
    "    test_acc / test_batches * 100))\n",
    "\n",
    "if test_acc / test_batches * 100 > 99:\n",
    "    print (\"Achievement unlocked: 80lvl Warlock!\")\n",
    "else:\n",
    "    print (\"We need more magic!\")"
   ]
  },
  {
   "cell_type": "markdown",
   "metadata": {
    "collapsed": true
   },
   "source": [
    "# Now improve it!\n",
    "\n",
    "* Moar layers!\n",
    "* Moar units!\n",
    "* Different nonlinearities!"
   ]
  }
 ],
 "metadata": {
  "kernelspec": {
   "display_name": "Python 3",
   "language": "python",
   "name": "python3"
  }
 },
 "nbformat": 4,
 "nbformat_minor": 0
}