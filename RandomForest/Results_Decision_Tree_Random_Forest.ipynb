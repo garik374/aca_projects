{
 "cells": [
  {
   "cell_type": "code",
   "execution_count": 6,
   "metadata": {
    "collapsed": true
   },
   "outputs": [],
   "source": [
    "import numpy as np\n",
    "import matplotlib.pyplot as plt\n",
    "from decision_tree import DecisionTree\n",
    "from random_forest import RandomForest"
   ]
  },
  {
   "cell_type": "code",
   "execution_count": 7,
   "metadata": {
    "collapsed": true
   },
   "outputs": [],
   "source": [
    "def accuracy_score(y_true, y_predict):\n",
    "    # counting accuracy between predicted y and the true one as percent of equal values.\n",
    "    # y_true - true values of labels\n",
    "    # y_predicetd - predicted values of labels\n",
    "    \n",
    "    true_prediction_num = sum([int(true_value == predic_value) for true_value, predic_value in zip(y_true, y_predict)])\n",
    "    return true_prediction_num / len(y_true)"
   ]
  },
  {
   "cell_type": "code",
   "execution_count": 8,
   "metadata": {
    "collapsed": true
   },
   "outputs": [],
   "source": [
    "def evaluate_performance():\n",
    "    '''\n",
    "    Evaluate the performance of decision trees and logistic regression,\n",
    "    average over 1,000 trials of 10-fold cross validation\n",
    "\n",
    "    Return:\n",
    "      a matrix giving the performance that will contain the following entries:\n",
    "      stats[0,0] = mean accuracy of decision tree\n",
    "      stats[0,1] = std deviation of decision tree accuracy\n",
    "      stats[1,0] = mean accuracy of logistic regression\n",
    "      stats[1,1] = std deviation of logistic regression accuracy\n",
    "    '''\n",
    "\n",
    "    # Load Data\n",
    "    filename = 'data/SPECTF.dat'\n",
    "    data = np.loadtxt(filename, delimiter=',') #loading data\n",
    "    X = np.array(data[:, 1:])\n",
    "    y = np.array([data[:, 0]]).T\n",
    "    n, d = X.shape\n",
    "    all_accuracies_dt = []\n",
    "    all_accuracies_rf = []\n",
    "    for trial in range(10):\n",
    "        # shuffling for each of the trials.\n",
    "        idx = np.arange(n)\n",
    "        np.random.seed(13)\n",
    "        np.random.shuffle(idx)\n",
    "        X = X[idx]\n",
    "        y = y[idx]\n",
    "\n",
    "        # cross validation\n",
    "        N = int(9 * len(X) / 10)\n",
    "        xtrain = X[1:N, :]\n",
    "        xtest = X[N:, :]\n",
    "        ytrain = y[1:N, :]\n",
    "        ytest = y[N:, :]\n",
    "\n",
    "        # train the decision tree\n",
    "        classifier_dt = DecisionTree(100)\n",
    "        classifier_dt.fit(xtrain, ytrain)\n",
    "    \n",
    "        # train the random forest\n",
    "        classifier_rf = RandomForest(5, 100)\n",
    "        classifier_rf.fit(xtrain, ytrain)\n",
    "\n",
    "        # output predictins on the remaining data for decision tree\n",
    "        y_pred_dt = classifier_dt.predict(xtest)\n",
    "        accuracy_dt = accuracy_score(ytest, y_pred_dt)\n",
    "        all_accuracies_dt.append(accuracy_dt)\n",
    "\n",
    "        # output predictions on the remaining data for random forest\n",
    "        y_pred_rf, conf = classifier_rf.predict(xtest)\n",
    "        accuracy_rf = accuracy_score(ytest, y_pred_rf)\n",
    "        all_accuracies_rf.append(accuracy_rf)\n",
    "\n",
    "    # compute the training accuracy of the model\n",
    "    meanDecisionTreeAccuracy = np.mean(all_accuracies_dt)\n",
    "\n",
    "    # updating the statistics based on the results of our experiment\n",
    "    stddevDecisionTreeAccuracy = np.std(all_accuracies_dt)\n",
    "    meanRandomForestAccuracy = np.mean(all_accuracies_rf)\n",
    "    stddevRandomForestAccuracy = np.std(all_accuracies_rf)\n",
    "    \n",
    "    stats = np.zeros((3, 3))\n",
    "    stats[0, 0] = meanDecisionTreeAccuracy\n",
    "    stats[0, 1] = stddevDecisionTreeAccuracy\n",
    "    stats[1, 0] = meanRandomForestAccuracy\n",
    "    stats[1, 1] = stddevRandomForestAccuracy\n",
    "    return stats"
   ]
  },
  {
   "cell_type": "code",
   "execution_count": 9,
   "metadata": {
    "collapsed": false
   },
   "outputs": [
    {
     "name": "stdout",
     "output_type": "stream",
     "text": [
      "Decision Tree Accuracy =  0.781481481481  ( 0.062962962963 )\n",
      "Random Forest Tree Accuracy =  0.807407407407  ( 0.0568973759101 )\n"
     ]
    }
   ],
   "source": [
    "if __name__ == \"__main__\":\n",
    "    stats = evaluate_performance()\n",
    "    print(\"Decision Tree Accuracy = \", stats[0, 0], \" (\", stats[0, 1], \")\")\n",
    "    print(\"Random Forest Tree Accuracy = \", stats[1, 0], \" (\", stats[1, 1], \")\")"
   ]
  }
 ],
 "metadata": {
  "kernelspec": {
   "display_name": "Python 3",
   "language": "python",
   "name": "python3"
  },
  "language_info": {
   "codemirror_mode": {
    "name": "ipython",
    "version": 3
   },
   "file_extension": ".py",
   "mimetype": "text/x-python",
   "name": "python",
   "nbconvert_exporter": "python",
   "pygments_lexer": "ipython3",
   "version": "3.6.0"
  }
 },
 "nbformat": 4,
 "nbformat_minor": 2
}
